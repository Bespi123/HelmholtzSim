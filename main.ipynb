{
 "cells": [
  {
   "cell_type": "markdown",
   "metadata": {},
   "source": [
    "**IMPORT LIBRARIES**"
   ]
  },
  {
   "cell_type": "code",
   "execution_count": 5,
   "metadata": {},
   "outputs": [],
   "source": [
    "from datetime import datetime, timedelta\n",
    "\n",
    "import plotly.graph_objs as go\n",
    "import matplotlib.pyplot as plt\n",
    "\n",
    "import numpy as np\n",
    "import pandas as pd\n",
    "import satSimulationMagField as sim\n",
    "\n",
    "import parallel_test4 as simulation\n",
    "import plotMagneticField as hplot"
   ]
  },
  {
   "cell_type": "markdown",
   "metadata": {},
   "source": [
    "**Run Satellite Orbit Propagator**"
   ]
  },
  {
   "cell_type": "code",
   "execution_count": 6,
   "metadata": {},
   "outputs": [
    {
     "name": "stdout",
     "output_type": "stream",
     "text": [
      "Results saved to 'satellite_propagation_results.csv'\n"
     ]
    }
   ],
   "source": [
    "# TLE of the satellite\n",
    "line1 = \"1 00000U 20000A   25015.00000000  .00000000  00000-0  00000-0 0  9991\"\n",
    "line2 = \"2 00000  97.3400 313.1310 0000000  0.0000  0.0000 15.09556778000000\"\n",
    "\n",
    "# Simulation parameters\n",
    "start_date = datetime(2025, 1, 15)\n",
    "end_date = start_date + timedelta(days=100)\n",
    "time_step = timedelta(hours=0.08)\n",
    "\n",
    "# Run the simulation\n",
    "sim.initialize_satellite(line1, line2)\n",
    "df = sim.simulate_satellite(start_date, end_date, time_step)\n",
    "\n",
    "# Save results to CSV\n",
    "df.to_csv(\"satellite_propagation_results.csv\", index=False)\n",
    "print(\"Results saved to 'satellite_propagation_results.csv'\")"
   ]
  },
  {
   "cell_type": "code",
   "execution_count": 7,
   "metadata": {},
   "outputs": [
    {
     "name": "stdout",
     "output_type": "stream",
     "text": [
      "Max Value Bx ECI (nT): 45839.86895741893 nT, Min Value Bx ECI (nT): -45342.45177870458 nT\n",
      "Max Value By ECI (nT): 46208.256178266194 nT, Min Value By ECI (nT): -34046.21391202095 nT\n",
      "Max Value Bz ECI (nT): 44894.94890550539 nT, Min Value Bz ECI (nT): -45448.63680014032 nT\n"
     ]
    }
   ],
   "source": [
    "df = pd.read_csv('satellite_propagation_results.csv')\n",
    "values = sim.calculate_max_min_values(df, 'ECI')"
   ]
  },
  {
   "cell_type": "code",
   "execution_count": 8,
   "metadata": {},
   "outputs": [],
   "source": [
    "# Initialize coil parameters\n",
    "X_coil = simulation.CoilParameters(1, 0.5, 36)\n",
    "Y_coil = simulation.CoilParameters(1, 0.5, 36)\n",
    "Z_coil = simulation.CoilParameters(1, 0.5, 36)\n",
    "#X_coil = test_3.CoilParameters(0.98083217, 0.95992063, 0.00128399)\n",
    "\n",
    "# Current coil simulation\n",
    "I  = np.array([1,2,3])\n",
    "Ax = np.eye(3)\n",
    "Ay = np.array([[0, -1,  0], [1,  0,  0], [0,  0,  1]])\n",
    "Az = np.array([[0,  0, -1], [0,  1,  0], [1,  0,  0]])\n",
    "\n",
    "# X coil simulation\n",
    "grid_length_size = 0.1\n",
    "num_seg = 100"
   ]
  },
  {
   "cell_type": "code",
   "execution_count": 10,
   "metadata": {},
   "outputs": [
    {
     "ename": "TypeError",
     "evalue": "optimization_fun() takes 4 positional arguments but 5 were given",
     "output_type": "error",
     "traceback": [
      "\u001b[0;31m---------------------------------------------------------------------------\u001b[0m",
      "\u001b[0;31mTypeError\u001b[0m                                 Traceback (most recent call last)",
      "Cell \u001b[0;32mIn[10], line 26\u001b[0m\n\u001b[1;32m     22\u001b[0m constraints_x \u001b[38;5;241m=\u001b[39m []  \u001b[38;5;66;03m# No forbidden value initially\u001b[39;00m\n\u001b[1;32m     24\u001b[0m initial \u001b[38;5;241m=\u001b[39m [\u001b[38;5;241m1\u001b[39m,\u001b[38;5;241m0.4\u001b[39m]\n\u001b[0;32m---> 26\u001b[0m length_x, distance_x \u001b[38;5;241m=\u001b[39m \u001b[43msimulation\u001b[49m\u001b[38;5;241;43m.\u001b[39;49m\u001b[43moptimization_fun\u001b[49m\u001b[43m(\u001b[49m\u001b[43mAx\u001b[49m\u001b[43m,\u001b[49m\u001b[43m \u001b[49m\u001b[43minitial\u001b[49m\u001b[43m,\u001b[49m\u001b[43m \u001b[49m\u001b[43mtarget_bx\u001b[49m\u001b[43m,\u001b[49m\u001b[43m \u001b[49m\u001b[43mmy_bounds\u001b[49m\u001b[43m,\u001b[49m\u001b[43m \u001b[49m\u001b[43mconstraints_x\u001b[49m\u001b[43m)\u001b[49m\n\u001b[1;32m     28\u001b[0m \u001b[38;5;66;03m# Update forbidden value for Y optimization\u001b[39;00m\n\u001b[1;32m     29\u001b[0m forbidden_value \u001b[38;5;241m=\u001b[39m length_x\n",
      "\u001b[0;31mTypeError\u001b[0m: optimization_fun() takes 4 positional arguments but 5 were given"
     ]
    }
   ],
   "source": [
    "# Definir los argumentos adicionales\n",
    "Ax = np.eye(3)  # Identity matrix\n",
    "target_bx = 45839.86895741893  # Desired target for Bx\n",
    "target_by = 45839.86895741893  # Desired target for By\n",
    "target_bz = 45839.86895741893  # Desired target for Bz\n",
    "\n",
    "# Bounds for the variables\n",
    "my_bounds = [(0.4, 1), (0.4, 1)]  # Bounds for length and distance\n",
    "\n",
    "# Tolerancia de 3 cm\n",
    "tolerance_cm = 0.03  # 3 cm en unidades de metros\n",
    "\n",
    "# Restricción dinámica: length no puede estar en un rango prohibido\n",
    "def constraint_length_not_in_range(variables, forbidden_value, tolerance=0.1):\n",
    "    \"\"\"\n",
    "    Restricción que asegura que `length` no esté dentro de [forbidden_value - tolerance, forbidden_value + tolerance].\n",
    "    \"\"\"\n",
    "    length = variables[0]  # Extraer length de las variables\n",
    "    return min(length - (forbidden_value + tolerance), (forbidden_value - tolerance) - length)\n",
    "\n",
    "# First optimization (X)\n",
    "constraints_x = []  # No forbidden value initially\n",
    "\n",
    "initial = [1,0.4]\n",
    "\n",
    "length_x, distance_x = simulation.optimization_fun(Ax, initial, target_bx, my_bounds, constraints_x)\n",
    "\n",
    "# Update forbidden value for Y optimization\n",
    "forbidden_value = length_x\n",
    "constraints_y = [\n",
    "    {\n",
    "        \"type\": \"ineq\",\n",
    "        \"fun\": constraint_length_not_in_range,\n",
    "        \"args\": (forbidden_value, tolerance_cm)  # Rango alrededor de forbidden_value\n",
    "    }\n",
    "]\n",
    "\n",
    "initial = [length_x, distance_x]\n",
    "# Second optimization (Y)\n",
    "length_y, distance_y = simulation.optimization_fun(Ax, initial, target_by, my_bounds, constraints_y)\n",
    "\n",
    "# Update forbidden values for Z optimization\n",
    "forbidden_value1 = length_x\n",
    "forbidden_value2 = length_y\n",
    "constraints_z = [\n",
    "    {\n",
    "        \"type\": \"ineq\",\n",
    "        \"fun\": constraint_length_not_in_range,\n",
    "        \"args\": (forbidden_value1, tolerance_cm)  # Rango alrededor de forbidden_value1\n",
    "    },\n",
    "    {\n",
    "        \"type\": \"ineq\",\n",
    "        \"fun\": constraint_length_not_in_range,\n",
    "        \"args\": (forbidden_value2, tolerance_cm)  # Rango alrededor de forbidden_value2\n",
    "    }\n",
    "]\n",
    "initial = [length_y, distance_y]\n",
    "# Third optimization (Z)\n",
    "length_z, distance_z = simulation.optimization_fun(Ax, initial, target_bz, my_bounds, constraints_z)"
   ]
  },
  {
   "cell_type": "code",
   "execution_count": null,
   "metadata": {},
   "outputs": [],
   "source": [
    "##Generar espiras\n",
    "spire1_x_s, spire2_x_s = simulation.square_spires(Ax, X_coil.h, X_coil.a, num_seg)\n",
    "spire1_y_s, spire2_y_s = simulation.square_spires(Ay, Y_coil.h, Y_coil.a, num_seg)\n",
    "spire1_z_s, spire2_z_s = simulation.square_spires(Az, Z_coil.h, Z_coil.a, num_seg)\n",
    "\n",
    "f0 = None\n",
    "f0 = hplot.plot_spires(f0, spire1_x_s, spire2_x_s, color='black')\n",
    "f0 = hplot.plot_spires(f0, spire1_y_s, spire2_y_s, color='red')\n",
    "f0 = hplot.plot_spires(f0, spire1_z_s, spire2_z_s, color='blue')\n",
    "# Display the final figure\n",
    "f0.update_layout(\n",
    "        title=\"Gráficos de Superficie 3D - Todos los Planos\",\n",
    ")\n",
    "f0.show()"
   ]
  },
  {
   "cell_type": "markdown",
   "metadata": {},
   "source": [
    "**Orbit propagator plots**"
   ]
  },
  {
   "cell_type": "code",
   "execution_count": null,
   "metadata": {},
   "outputs": [],
   "source": [
    "hplot.plot_orbit(df, 'ECI')"
   ]
  },
  {
   "cell_type": "code",
   "execution_count": null,
   "metadata": {},
   "outputs": [],
   "source": [
    "hplot.plot_magField_time(df, 'NED')"
   ]
  }
 ],
 "metadata": {
  "kernelspec": {
   "display_name": "usr",
   "language": "python",
   "name": "python3"
  },
  "language_info": {
   "codemirror_mode": {
    "name": "ipython",
    "version": 3
   },
   "file_extension": ".py",
   "mimetype": "text/x-python",
   "name": "python",
   "nbconvert_exporter": "python",
   "pygments_lexer": "ipython3",
   "version": "3.10.12"
  }
 },
 "nbformat": 4,
 "nbformat_minor": 2
}
