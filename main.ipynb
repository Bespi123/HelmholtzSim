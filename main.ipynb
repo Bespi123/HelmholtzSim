{
 "cells": [
  {
   "cell_type": "code",
   "execution_count": null,
   "metadata": {},
   "outputs": [],
   "source": [
    "import numpy as np\n",
    "import sequential_test as test\n",
    "import time\n",
    "\n",
    "# Initialize coil parameters\n",
    "Z_coil = test.CoilParameters(1.03, 0.5, 20)\n",
    "Y_coil = test.CoilParameters(1.02, 0.5, 35)\n",
    "X_coil = test.CoilParameters(1.03, 0.85, 36)\n",
    "\n",
    "# Current coil simulation\n",
    "I = np.array([1,2,3])\n",
    "\n",
    "# X coil simulation\n",
    "grid_length_size = 0.05\n",
    "num_seg = 1000\n",
    "\n",
    "Rangex = test.generate_range(X_coil.a, grid_length_size)\n",
    "Ax = np.eye(3)\n",
    "start_time = time.time()\n",
    "x_coil_results = test.coil_simulation_1d(Rangex, Ax, X_coil, I[0], num_seg)\n",
    "# Marcar el tiempo de fin\n",
    "end_time = time.time()\n",
    "\n",
    "# Calcular y mostrar el tiempo de ejecución\n",
    "execution_time = end_time - start_time\n",
    "print(f\"Tiempo de ejecución: {execution_time} segundos\")\n"
   ]
  }
 ],
 "metadata": {
  "language_info": {
   "name": "python"
  }
 },
 "nbformat": 4,
 "nbformat_minor": 2
}
